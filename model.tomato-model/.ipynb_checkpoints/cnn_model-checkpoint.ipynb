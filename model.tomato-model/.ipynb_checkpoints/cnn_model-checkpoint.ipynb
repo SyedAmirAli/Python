{
 "cells": [
  {
   "cell_type": "code",
   "execution_count": 2,
   "id": "ba7294bd-076a-41ff-943d-2dab7fa0234e",
   "metadata": {},
   "outputs": [],
   "source": [
    "### Run the pre trainded model"
   ]
  },
  {
   "cell_type": "code",
   "execution_count": 1,
   "id": "41f0b357-7cfd-4dfe-ac5f-aab14d00594c",
   "metadata": {},
   "outputs": [
    {
     "name": "stderr",
     "output_type": "stream",
     "text": [
      "2023-12-08 18:44:05.945629: I external/local_tsl/tsl/cuda/cudart_stub.cc:31] Could not find cuda drivers on your machine, GPU will not be used.\n",
      "2023-12-08 18:44:06.196038: E external/local_xla/xla/stream_executor/cuda/cuda_dnn.cc:9261] Unable to register cuDNN factory: Attempting to register factory for plugin cuDNN when one has already been registered\n",
      "2023-12-08 18:44:06.196156: E external/local_xla/xla/stream_executor/cuda/cuda_fft.cc:607] Unable to register cuFFT factory: Attempting to register factory for plugin cuFFT when one has already been registered\n",
      "2023-12-08 18:44:06.242425: E external/local_xla/xla/stream_executor/cuda/cuda_blas.cc:1515] Unable to register cuBLAS factory: Attempting to register factory for plugin cuBLAS when one has already been registered\n",
      "2023-12-08 18:44:06.339772: I external/local_tsl/tsl/cuda/cudart_stub.cc:31] Could not find cuda drivers on your machine, GPU will not be used.\n",
      "2023-12-08 18:44:06.341096: I tensorflow/core/platform/cpu_feature_guard.cc:182] This TensorFlow binary is optimized to use available CPU instructions in performance-critical operations.\n",
      "To enable the following instructions: AVX2 FMA, in other operations, rebuild TensorFlow with the appropriate compiler flags.\n",
      "2023-12-08 18:44:07.419825: W tensorflow/compiler/tf2tensorrt/utils/py_utils.cc:38] TF-TRT Warning: Could not find TensorRT\n"
     ]
    },
    {
     "name": "stdout",
     "output_type": "stream",
     "text": [
      "1/1 [==============================] - 0s 144ms/step\n",
      "\n",
      "Predicted Class: Tomato___healthy with confidence: 10.70%\n",
      "\n"
     ]
    }
   ],
   "source": [
    "import tensorflow as tf\n",
    "from tensorflow.keras.preprocessing import image\n",
    "import numpy as np\n",
    "import os\n",
    "\n",
    "# Load the trained model\n",
    "model = tf.keras.models.load_model('./tomato-plant-diseases-detector/model.h5')\n",
    "\n",
    "# Class names\n",
    "class_names = sorted(os.listdir('./plant-dataset/tomato-dataset/train/'))\n",
    "\n",
    "def preprocess_image(image_path):\n",
    "    # Load and preprocess the image\n",
    "    img = image.load_img(image_path, target_size=(256, 256))\n",
    "    img_array = image.img_to_array(img)\n",
    "    img_array = np.expand_dims(img_array, axis=0)\n",
    "    img_array = img_array / 255.0  # Normalize pixel values to between 0 and 1\n",
    "    return img_array\n",
    "\n",
    "def predict_class(image_path):\n",
    "    # Preprocess the image\n",
    "    img_array = preprocess_image(image_path)\n",
    "\n",
    "    # Make predictions\n",
    "    predictions = model.predict(img_array)\n",
    "\n",
    "    # Get the predicted class index\n",
    "    predicted_class_index = np.argmax(predictions, axis=1)[0]\n",
    "\n",
    "    # Get the predicted class label\n",
    "    predicted_class = class_names[predicted_class_index]\n",
    "\n",
    "    return predicted_class, predictions[0][predicted_class_index]\n",
    "\n",
    "image_path = '/home/amir/Desktop/Python/model.tomato-plant-diseases-detector/dataset/train/Tomato___Tomato_Yellow_Leaf_Curl_Virus/d0d6f6ab-9a4e-41ed-90eb-171c7f7d6bc7___UF.GRC_YLCV_Lab 02692.JPG'\n",
    "\n",
    "predicted_class, confidence = predict_class(image_path)\n",
    "print(f'\\nPredicted Class: {predicted_class} with confidence: {confidence * 100:.2f}%\\n')\n",
    "# print(class_names)\n",
    "\n",
    "# Example usage\n",
    "# image_path_1 = './plant-dataset/tomato-dataset/val/Tomato___healthy/01c1da17-8d9f-4d69-8a1e-58d37453d3c3___RS_HL 9641.JPG'\n",
    "# image_path_2 = './plant-dataset/tomato-dataset/val/Tomato___Bacterial_spot/01a3cf3f-94c1-44d5-8972-8c509d62558e___GCREC_Bact.Sp 3396.JPG'\n",
    "# image_path_3 = './plant-dataset/tomato-dataset/val/Tomato___Early_blight/00c5c908-fc25-4710-a109-db143da23112___RS_Erly.B 7778.JPG'\n",
    "# image_path_4 = './plant-dataset/tomato-dataset/val/Tomato___Late_blight/00ce4c63-9913-4b16-898c-29f99acf0dc3___RS_Late.B 4982.JPG'\n",
    "# image_path_5 = './plant-dataset/tomato-dataset/val/Tomato___Leaf_Mold/02a29ab9-8cba-47a0-bc2f-e7af7dbae149___Crnl_L.Mold 7165.JPG'\n",
    "# image_path_6 = './plant-dataset/tomato-dataset/val/Tomato___Tomato_Yellow_Leaf_Curl_Virus/1af07f2b-027b-4792-80c5-2c20a4ed538c___YLCV_NREC 0179.JPG'\n",
    "# predicted_class_1, confidence_1 = predict_class(image_path_1)\n",
    "# print(f'\\nPredicted Class: {predicted_class_1} with confidence: {confidence_1 * 100:.2f}%\\n')\n",
    "    \n",
    "# predicted_class_2, confidence_2 = predict_class(image_path_2)\n",
    "# print(f'Predicted Class: {predicted_class_2} with confidence: {confidence_2 * 100:.2f}%\\n')\n",
    "    \n",
    "# predicted_class_3, confidence_3 = predict_class(image_path_3)\n",
    "# print(f'Predicted Class: {predicted_class_3} with confidence: {confidence_3 * 100:.2f}%\\n')\n",
    "    \n",
    "# predicted_class_4, confidence_4 = predict_class(image_path_4)\n",
    "# print(f'Predicted Class: {predicted_class_4} with confidence: {confidence_4 * 100:.2f}%\\n')\n",
    "    \n",
    "# predicted_class_5, confidence_5 = predict_class(image_path_5)\n",
    "# print(f'Predicted Class: {predicted_class_5} with confidence: {confidence_5 * 100:.2f}%\\n')\n",
    "    \n",
    "# predicted_class_6, confidence_6 = predict_class(image_path_6)\n",
    "# print(f'Predicted Class: {predicted_class_6} with confidence: {confidence_6 * 100:.2f}%\\n')\n"
   ]
  },
  {
   "cell_type": "code",
   "execution_count": null,
   "id": "f945da24-ca4a-4a3b-927d-57619d2d5513",
   "metadata": {},
   "outputs": [],
   "source": [
    "### Testing Purpose"
   ]
  },
  {
   "cell_type": "code",
   "execution_count": 8,
   "id": "78f6dd04-2242-4514-a33f-7eb7f9b98453",
   "metadata": {},
   "outputs": [
    {
     "name": "stdout",
     "output_type": "stream",
     "text": [
      "1/1 [==============================] - 2s 2s/step\n",
      "Raw Predictions: [0.10688096 0.08035257 0.09135918 0.08730659 0.10074009 0.10658793\n",
      " 0.10672742 0.10601772 0.10699349 0.10703412]\n",
      "\n",
      "Predicted Class: Tomato___healthy with confidence: 10.70%\n",
      "\n"
     ]
    }
   ],
   "source": [
    "import tensorflow as tf\n",
    "from tensorflow.keras.preprocessing import image\n",
    "from tensorflow.keras.models import load_model\n",
    "import numpy as np\n",
    "import os\n",
    "\n",
    "# Load the trained model\n",
    "model = load_model('./tomato-plant-diseases-detector/model.h5')\n",
    "\n",
    "# Class names\n",
    "class_names = sorted(os.listdir('./plant-dataset/tomato-dataset/train/'))\n",
    "\n",
    "def preprocess_image(image_path):\n",
    "    # Load and preprocess the image\n",
    "    img = image.load_img(image_path, target_size=(256, 256))\n",
    "    img_array = image.img_to_array(img)\n",
    "    img_array = np.expand_dims(img_array, axis=0)\n",
    "    img_array = img_array / 255.0  # Normalize pixel values to between 0 and 1\n",
    "    return img_array\n",
    "\n",
    "def predict_class(image_path):\n",
    "    # Preprocess the image\n",
    "    img_array = preprocess_image(image_path)\n",
    "\n",
    "    # Make predictions\n",
    "    predictions = model.predict(img_array)\n",
    "\n",
    "    # Print raw predictions\n",
    "    print(\"Raw Predictions:\", predictions[0])\n",
    "\n",
    "    # Get the predicted class index\n",
    "    predicted_class_index = np.argmax(predictions, axis=1)[0]\n",
    "\n",
    "    # Get the predicted class label\n",
    "    predicted_class = class_names[predicted_class_index]\n",
    "\n",
    "    return predicted_class, predictions[0][predicted_class_index]\n",
    "\n",
    "image_path = './plant-dataset/tomato-dataset/val/Tomato___healthy/01c1da17-8d9f-4d69-8a1e-58d37453d3c3___RS_HL 9641.JPG'\n",
    "\n",
    "predicted_class, confidence = predict_class(image_path)\n",
    "print(f'\\nPredicted Class: {predicted_class} with confidence: {confidence * 100:.2f}%\\n')\n"
   ]
  },
  {
   "cell_type": "code",
   "execution_count": 9,
   "id": "1115df2d-85e4-462d-a185-2d1edc062f11",
   "metadata": {},
   "outputs": [
    {
     "name": "stdout",
     "output_type": "stream",
     "text": [
      "1/1 [==============================] - 0s 89ms/step\n",
      "Raw Predictions: [0.10688096 0.08035257 0.09135918 0.08730659 0.10074009 0.10658793\n",
      " 0.10672742 0.10601772 0.10699349 0.10703412]\n",
      "\n",
      "Predicted Class: Tomato___healthy with confidence: 10.70%\n",
      "\n"
     ]
    }
   ],
   "source": [
    "import tensorflow as tf\n",
    "from tensorflow.keras.preprocessing import image\n",
    "from tensorflow.keras.models import load_model\n",
    "import numpy as np\n",
    "import os\n",
    "\n",
    "# Load the trained model\n",
    "model = load_model('./tomato-plant-diseases-detector/model.h5')\n",
    "\n",
    "# Class names\n",
    "class_names = sorted(os.listdir('./plant-dataset/tomato-dataset/train/'))\n",
    "\n",
    "def preprocess_image(image_path):\n",
    "    # Load and preprocess the image\n",
    "    img = image.load_img(image_path, target_size=(256, 256))\n",
    "    img_array = image.img_to_array(img)\n",
    "    img_array = np.expand_dims(img_array, axis=0)\n",
    "    img_array = img_array / 255.0  # Normalize pixel values to between 0 and 1\n",
    "    return img_array\n",
    "\n",
    "def predict_class(image_path):\n",
    "    # Preprocess the image\n",
    "    img_array = preprocess_image(image_path)\n",
    "\n",
    "    # Make predictions\n",
    "    predictions = model.predict(img_array)\n",
    "\n",
    "    # Get the predicted class index\n",
    "    predicted_class_index = np.argmax(predictions, axis=1)[0]\n",
    "\n",
    "    # Print raw predictions\n",
    "    print(\"Raw Predictions:\", predictions[0])\n",
    "\n",
    "    # Get the predicted class label\n",
    "    predicted_class = class_names[predicted_class_index]\n",
    "\n",
    "    return predicted_class, predictions[0][predicted_class_index]\n",
    "\n",
    "image_path = 'plant-dataset/tomato-dataset/train/Tomato___Tomato_Yellow_Leaf_Curl_Virus/d0a48fe1-d49b-4931-8d3f-ae2a6b28733f___UF.GRC_YLCV_Lab 02807.JPG'\n",
    "\n",
    "predicted_class, confidence = predict_class(image_path)\n",
    "print(f'\\nPredicted Class: {predicted_class} with confidence: {confidence * 100:.2f}%\\n')\n",
    "# print(class_names)\n"
   ]
  },
  {
   "cell_type": "code",
   "execution_count": null,
   "id": "65d8417a-6d7d-40f2-8303-67c84e8ca63d",
   "metadata": {},
   "outputs": [],
   "source": [
    "### Testing"
   ]
  },
  {
   "cell_type": "code",
   "execution_count": 4,
   "id": "79a39a15-fa0d-4507-ae1a-0e900e672ce7",
   "metadata": {},
   "outputs": [
    {
     "name": "stdout",
     "output_type": "stream",
     "text": [
      "train\n"
     ]
    }
   ],
   "source": [
    "import os\n",
    "\n",
    "path = \"/home/amir/Desktop/Python/model.tomato-model/plant-dataset/tomato-dataset/train\"\n",
    "child_folder_name = os.path.basename(os.path.normpath(path))\n",
    "\n",
    "print(child_folder_name)"
   ]
  },
  {
   "cell_type": "code",
   "execution_count": null,
   "id": "43cb4da2-0a53-451b-b694-e8563d09eaa8",
   "metadata": {},
   "outputs": [],
   "source": []
  },
  {
   "cell_type": "code",
   "execution_count": null,
   "id": "bf2dd554-94ed-4c0f-999a-1f75346ec6e4",
   "metadata": {},
   "outputs": [],
   "source": []
  }
 ],
 "metadata": {
  "kernelspec": {
   "display_name": "Python 3 (ipykernel)",
   "language": "python",
   "name": "python3"
  },
  "language_info": {
   "codemirror_mode": {
    "name": "ipython",
    "version": 3
   },
   "file_extension": ".py",
   "mimetype": "text/x-python",
   "name": "python",
   "nbconvert_exporter": "python",
   "pygments_lexer": "ipython3",
   "version": "3.10.12"
  }
 },
 "nbformat": 4,
 "nbformat_minor": 5
}
